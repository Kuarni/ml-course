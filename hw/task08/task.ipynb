{
 "cells": [
  {
   "cell_type": "code",
   "id": "4d81fae1404a6195",
   "metadata": {
    "ExecuteTime": {
     "end_time": "2025-04-18T05:40:46.259770Z",
     "start_time": "2025-04-18T05:40:46.228433Z"
    }
   },
   "source": [
    "import os\n",
    "\n",
    "from matplotlib import pyplot as plt\n",
    "from sklearn.model_selection import train_test_split\n",
    "import random\n",
    "import numpy as np\n",
    "import torch\n",
    "import torch.nn as nn\n",
    "import torch.nn.functional as F\n",
    "from PIL import Image\n",
    "import torch.optim as optim\n",
    "from torch.utils.data import Dataset, DataLoader\n",
    "\n",
    "print(torch.cuda.is_available())"
   ],
   "outputs": [
    {
     "name": "stdout",
     "output_type": "stream",
     "text": [
      "True\n"
     ]
    }
   ],
   "execution_count": 48
  },
  {
   "metadata": {},
   "cell_type": "markdown",
   "source": [
    "## Train, Test set\n",
    "загрузим изображения и поделим на выборки"
   ],
   "id": "4c5587dde8843c1a"
  },
  {
   "metadata": {
    "collapsed": true,
    "ExecuteTime": {
     "end_time": "2025-04-18T05:40:46.153434700Z",
     "start_time": "2025-04-18T00:05:21.642098Z"
    }
   },
   "cell_type": "code",
   "source": [
    "data_dir = \"dataset\"\n",
    "images_dir = os.path.join(data_dir, \"images\")\n",
    "masks_dir = os.path.join(data_dir, \"masks\")\n",
    "\n",
    "image_files = sorted([f for f in os.listdir(images_dir) if f.endswith(('.png', '.jpg', '.jpeg'))])\n",
    "mask_files = sorted([f for f in os.listdir(masks_dir) if f.endswith(('.png', '.jpg', '.jpeg'))])\n",
    "\n",
    "print(f\"Всего изображений: {len(image_files)}, Всего масок: {len(mask_files)}\")\n",
    "\n",
    "train_images, test_images, train_masks, test_masks = train_test_split(\n",
    "    image_files, mask_files, test_size=0.2, random_state=52)\n",
    "\n",
    "print(f\"Обучающих изображений: {len(train_images)}, Тестовых изображений: {len(test_images)}\")\n",
    "\n",
    "train_images, val_images, train_masks, val_masks = train_test_split(\n",
    "    train_images, train_masks, test_size=0.15, random_state=52)\n",
    "\n",
    "print(f\"Итогово: Train: {len(train_images)}, Val: {len(val_images)}, Test: {len(test_images)}\")"
   ],
   "id": "initial_id",
   "outputs": [
    {
     "name": "stdout",
     "output_type": "stream",
     "text": [
      "Всего изображений: 2000, Всего масок: 2000\n",
      "Обучающих изображений: 1600, Тестовых изображений: 400\n",
      "Итогово: Train: 1360, Val: 240, Test: 400\n"
     ]
    }
   ],
   "execution_count": 40
  },
  {
   "metadata": {},
   "cell_type": "markdown",
   "source": "Зададим размер в 512x512",
   "id": "5083f3761dda28db"
  },
  {
   "metadata": {
    "ExecuteTime": {
     "end_time": "2025-04-18T05:40:46.168437900Z",
     "start_time": "2025-04-18T00:05:21.876724Z"
    }
   },
   "cell_type": "code",
   "source": [
    "import albumentations as A\n",
    "\n",
    "\n",
    "class SegmentationDataset(Dataset):\n",
    "    def __init__(self, image_files, mask_files, images_dir, masks_dir, transform=None):\n",
    "        self.image_files = image_files\n",
    "        self.mask_files = mask_files\n",
    "        self.images_dir = images_dir\n",
    "        self.masks_dir = masks_dir\n",
    "        self.transform = transform\n",
    "\n",
    "    def __len__(self):\n",
    "        return len(self.image_files)\n",
    "\n",
    "    def __getitem__(self, idx):\n",
    "        img_name = self.image_files[idx]\n",
    "        mask_name = self.mask_files[idx]\n",
    "\n",
    "        img = Image.open(os.path.join(self.images_dir, img_name)).convert(\"RGB\")\n",
    "        mask = Image.open(os.path.join(self.masks_dir, mask_name)).convert(\"L\")\n",
    "\n",
    "        img = np.array(img)\n",
    "        mask = np.array(mask)\n",
    "\n",
    "        if self.transform:\n",
    "            augmented = self.transform(image=img, mask=mask)\n",
    "            img = augmented['image']\n",
    "            mask = augmented['mask']\n",
    "\n",
    "        img = torch.FloatTensor(img / 255.0).permute(2, 0, 1)  # [C,H,W]\n",
    "        mask = torch.FloatTensor(mask / 255.0).unsqueeze(0)  # [1,H,W]\n",
    "        return img, mask\n",
    "\n",
    "\n",
    "transform = A.Compose([\n",
    "    A.Resize(512, 512),\n",
    "], additional_targets={'mask': 'mask'})\n",
    "\n",
    "train_dataset = SegmentationDataset(train_images, train_masks, images_dir, masks_dir, transform=transform)\n",
    "val_dataset = SegmentationDataset(val_images, val_masks, images_dir, masks_dir, transform=transform)\n",
    "test_dataset = SegmentationDataset(test_images, test_masks, images_dir, masks_dir, transform=transform)"
   ],
   "id": "49a79dc86993008b",
   "outputs": [],
   "execution_count": 41
  },
  {
   "metadata": {},
   "cell_type": "markdown",
   "source": "## Зафиксируем рандом",
   "id": "3e0351704c8c7198"
  },
  {
   "metadata": {
    "ExecuteTime": {
     "end_time": "2025-04-18T05:40:46.171431200Z",
     "start_time": "2025-04-18T00:05:22.081310Z"
    }
   },
   "cell_type": "code",
   "source": [
    "SEED = 52\n",
    "random.seed(SEED)\n",
    "np.random.seed(SEED)\n",
    "torch.manual_seed(SEED)\n",
    "torch.cuda.manual_seed_all(SEED)\n",
    "\n",
    "# фиксируем настройки CUDA для воспроизводимости\n",
    "torch.backends.cudnn.deterministic = True\n",
    "torch.backends.cudnn.benchmark = False"
   ],
   "id": "8e12f7d751874895",
   "outputs": [],
   "execution_count": 42
  },
  {
   "metadata": {},
   "cell_type": "markdown",
   "source": "## Метрика Jaccard (IoU)",
   "id": "f5e366c73c048e93"
  },
  {
   "metadata": {
    "ExecuteTime": {
     "end_time": "2025-04-18T05:40:46.172430900Z",
     "start_time": "2025-04-18T00:05:22.506747Z"
    }
   },
   "cell_type": "code",
   "source": [
    "def iou_score(pred_mask: torch.Tensor, true_mask: torch.Tensor) -> float:\n",
    "    pred_mask_bool = pred_mask.bool()\n",
    "    true_mask_bool = true_mask.bool()\n",
    "\n",
    "    intersection = (pred_mask_bool & true_mask_bool).float().sum(dim=(-1, -2))\n",
    "    union = (pred_mask_bool | true_mask_bool).float().sum(dim=(-1, -2))\n",
    "\n",
    "    # Чтобы избежать деления на 0, добавим epsilon к знаменателю\n",
    "    iou = (intersection + 1e-6) / (union + 1e-6)\n",
    "\n",
    "    # Если на входе был батч, вернем среднее по батчу\n",
    "    return iou.mean().item() if iou.ndim > 0 else iou.item()"
   ],
   "id": "5b345ebccd7b1879",
   "outputs": [],
   "execution_count": 43
  },
  {
   "metadata": {},
   "cell_type": "markdown",
   "source": "## Модель U-Net",
   "id": "68385bbcdc017a13"
  },
  {
   "metadata": {
    "ExecuteTime": {
     "end_time": "2025-04-18T05:40:46.174431900Z",
     "start_time": "2025-04-18T00:05:22.518564Z"
    }
   },
   "cell_type": "code",
   "source": [
    "class UNet(nn.Module):\n",
    "    def __init__(self, in_channels=3, out_channels=1, base_filters=32):\n",
    "        super(UNet, self).__init__()\n",
    "        self.enc1 = self.conv_block(in_channels, base_filters)\n",
    "        self.enc2 = self.conv_block(base_filters, base_filters * 2)\n",
    "        self.enc3 = self.conv_block(base_filters * 2, base_filters * 4)\n",
    "        self.enc4 = self.conv_block(base_filters * 4, base_filters * 8)\n",
    "        self.bottom = self.conv_block(base_filters * 8, base_filters * 16)\n",
    "        self.up4 = self.up_block(base_filters * 16, base_filters * 8)\n",
    "        self.dec4 = self.conv_block(base_filters * 16, base_filters * 8)  # после конкатенации со skip (8 + 8)\n",
    "        self.up3 = self.up_block(base_filters * 8, base_filters * 4)\n",
    "        self.dec3 = self.conv_block(base_filters * 8, base_filters * 4)  # (4 + 4)\n",
    "        self.up2 = self.up_block(base_filters * 4, base_filters * 2)\n",
    "        self.dec2 = self.conv_block(base_filters * 4, base_filters * 2)  # (2 + 2)\n",
    "        self.up1 = self.up_block(base_filters * 2, base_filters)\n",
    "        self.dec1 = self.conv_block(base_filters * 2, base_filters)  # (1 + 1)\n",
    "        self.out_conv = nn.Conv2d(base_filters, out_channels, kernel_size=1)\n",
    "\n",
    "    def conv_block(self, in_ch, out_ch):\n",
    "        return nn.Sequential(\n",
    "            nn.Conv2d(in_ch, out_ch, kernel_size=3, padding=1),\n",
    "            nn.ReLU(inplace=True),\n",
    "            nn.Conv2d(out_ch, out_ch, kernel_size=3, padding=1),\n",
    "            nn.ReLU(inplace=True),\n",
    "        )\n",
    "\n",
    "    def up_block(self, in_ch, out_ch):\n",
    "        return nn.ConvTranspose2d(in_ch, out_ch, kernel_size=2, stride=2)\n",
    "\n",
    "    def forward(self, x):\n",
    "        x1 = self.enc1(x)\n",
    "        x2 = self.enc2(nn.functional.max_pool2d(x1, 2))\n",
    "        x3 = self.enc3(nn.functional.max_pool2d(x2, 2))\n",
    "        x4 = self.enc4(nn.functional.max_pool2d(x3, 2))\n",
    "        x5 = self.bottom(nn.functional.max_pool2d(x4, 2))\n",
    "        x_up4 = self.up4(x5)\n",
    "        x_up4 = torch.cat([x_up4, x4], dim=1)\n",
    "        x_dec4 = self.dec4(x_up4)\n",
    "        x_up3 = self.up3(x_dec4)\n",
    "        x_up3 = torch.cat([x_up3, x3], dim=1)\n",
    "        x_dec3 = self.dec3(x_up3)\n",
    "        x_up2 = self.up2(x_dec3)\n",
    "        x_up2 = torch.cat([x_up2, x2], dim=1)\n",
    "        x_dec2 = self.dec2(x_up2)\n",
    "        x_up1 = self.up1(x_dec2)\n",
    "        x_up1 = torch.cat([x_up1, x1], dim=1)\n",
    "        x_dec1 = self.dec1(x_up1)\n",
    "        # Выход (логиты)\n",
    "        output = self.out_conv(x_dec1)\n",
    "        return output\n",
    "\n",
    "\n",
    "model = UNet(in_channels=3, out_channels=1, base_filters=32)\n",
    "print(model.out_conv)"
   ],
   "id": "712f9c86314b8715",
   "outputs": [
    {
     "name": "stdout",
     "output_type": "stream",
     "text": [
      "Conv2d(32, 1, kernel_size=(1, 1), stride=(1, 1))\n"
     ]
    }
   ],
   "execution_count": 44
  },
  {
   "metadata": {},
   "cell_type": "markdown",
   "source": "## Проверка модели путем переобучения на маленьком батче\n",
   "id": "ad5923380c1821f8"
  },
  {
   "metadata": {
    "ExecuteTime": {
     "end_time": "2025-04-18T05:40:46.175432700Z",
     "start_time": "2025-04-18T00:05:22.772589Z"
    }
   },
   "cell_type": "code",
   "source": [
    "small_train = [train_dataset[i] for i in range(4)]\n",
    "batch_images = torch.stack([b[0] for b in small_train])\n",
    "batch_masks = torch.stack([b[1] for b in small_train])\n",
    "\n",
    "device = torch.device(\"cuda\")\n",
    "model = model.to(device)\n",
    "batch_images = batch_images.to(device)\n",
    "batch_masks = batch_masks.to(device)\n",
    "\n",
    "criterion = nn.BCEWithLogitsLoss()\n",
    "optimizer = optim.Adam(model.parameters(), lr=1e-3)"
   ],
   "id": "9f07a54c5a3bc608",
   "outputs": [],
   "execution_count": 45
  },
  {
   "metadata": {},
   "cell_type": "markdown",
   "source": "обучим",
   "id": "f56a47b0d73d549c"
  },
  {
   "metadata": {
    "ExecuteTime": {
     "end_time": "2025-04-18T05:40:46.176430700Z",
     "start_time": "2025-04-18T00:05:23.066764Z"
    }
   },
   "cell_type": "code",
   "source": [
    "num_epochs = 250\n",
    "batch_iou_list = []\n",
    "batch_loss_list = []\n",
    "for epoch in range(1, num_epochs + 1):\n",
    "    model.train()\n",
    "    optimizer.zero_grad()\n",
    "    outputs = model(batch_images)\n",
    "    loss = criterion(outputs, batch_masks)\n",
    "    loss.backward()\n",
    "    optimizer.step()\n",
    "    batch_loss_list.append(loss.item())\n",
    "\n",
    "    if epoch % 10 == 0:\n",
    "        preds = torch.sigmoid(outputs) >= 0.5\n",
    "        iou_val = iou_score(preds.cpu(), batch_masks.cpu())\n",
    "        print(f\"Эпоха {epoch}: loss = {loss.item():.4f}, IoU = {iou_val:.4f}\")\n",
    "        batch_iou_list.append(iou_val)"
   ],
   "id": "5529d23b10a64c02",
   "outputs": [
    {
     "name": "stdout",
     "output_type": "stream",
     "text": [
      "Эпоха 10: loss = 0.6806, IoU = 0.4214\n",
      "Эпоха 20: loss = 0.6198, IoU = 0.4148\n",
      "Эпоха 30: loss = 0.6567, IoU = 0.4219\n",
      "Эпоха 40: loss = 0.5921, IoU = 0.4432\n",
      "Эпоха 50: loss = 0.6756, IoU = 0.4193\n",
      "Эпоха 60: loss = 0.5723, IoU = 0.4723\n",
      "Эпоха 70: loss = 0.5257, IoU = 0.3806\n",
      "Эпоха 80: loss = 0.4490, IoU = 0.7270\n",
      "Эпоха 90: loss = 0.3490, IoU = 0.7689\n",
      "Эпоха 100: loss = 0.4247, IoU = 0.5127\n",
      "Эпоха 110: loss = 0.3360, IoU = 0.7920\n",
      "Эпоха 120: loss = 0.2805, IoU = 0.8257\n",
      "Эпоха 130: loss = 0.1839, IoU = 0.8825\n",
      "Эпоха 140: loss = 0.1485, IoU = 0.8773\n",
      "Эпоха 150: loss = 0.0865, IoU = 0.9408\n",
      "Эпоха 160: loss = 0.2552, IoU = 0.8124\n",
      "Эпоха 170: loss = 0.2187, IoU = 0.8250\n",
      "Эпоха 180: loss = 0.1407, IoU = 0.8987\n",
      "Эпоха 190: loss = 0.1412, IoU = 0.9211\n",
      "Эпоха 200: loss = 0.0716, IoU = 0.9483\n",
      "Эпоха 210: loss = 0.0738, IoU = 0.9598\n",
      "Эпоха 220: loss = 0.0356, IoU = 0.9652\n",
      "Эпоха 230: loss = 0.0267, IoU = 0.9693\n",
      "Эпоха 240: loss = 0.0210, IoU = 0.9734\n",
      "Эпоха 250: loss = 0.0196, IoU = 0.9670\n"
     ]
    }
   ],
   "execution_count": 46
  },
  {
   "metadata": {},
   "cell_type": "markdown",
   "source": "Проверка результатов",
   "id": "4599fa3c6b2cfcbd"
  },
  {
   "metadata": {
    "ExecuteTime": {
     "end_time": "2025-04-18T05:40:46.189430500Z",
     "start_time": "2025-04-18T00:06:59.784423Z"
    }
   },
   "cell_type": "code",
   "source": [
    "plt.figure()\n",
    "plt.plot(range(0, 250, 10), batch_iou_list)\n",
    "plt.title(\"IoU\")\n",
    "plt.xlabel(\"Эпоха\")\n",
    "plt.ylabel(\"IoU\")\n",
    "plt.show()\n",
    "\n",
    "plt.figure()\n",
    "plt.plot(batch_loss_list)\n",
    "plt.title(\"loss\")\n",
    "plt.xlabel(\"Эпоха\")\n",
    "plt.ylabel(\"loss\")\n",
    "plt.show()"
   ],
   "id": "da731e28f729363e",
   "outputs": [
    {
     "ename": "ValueError",
     "evalue": "x and y must have same first dimension, but have shapes (50,) and (25,)",
     "output_type": "error",
     "traceback": [
      "\u001B[31m---------------------------------------------------------------------------\u001B[39m",
      "\u001B[31mValueError\u001B[39m                                Traceback (most recent call last)",
      "\u001B[36mCell\u001B[39m\u001B[36m \u001B[39m\u001B[32mIn[47]\u001B[39m\u001B[32m, line 2\u001B[39m\n\u001B[32m      1\u001B[39m plt.figure()\n\u001B[32m----> \u001B[39m\u001B[32m2\u001B[39m \u001B[43mplt\u001B[49m\u001B[43m.\u001B[49m\u001B[43mplot\u001B[49m\u001B[43m(\u001B[49m\u001B[38;5;28;43mrange\u001B[39;49m\u001B[43m(\u001B[49m\u001B[32;43m0\u001B[39;49m\u001B[43m,\u001B[49m\u001B[43m \u001B[49m\u001B[32;43m500\u001B[39;49m\u001B[43m,\u001B[49m\u001B[43m \u001B[49m\u001B[32;43m10\u001B[39;49m\u001B[43m)\u001B[49m\u001B[43m,\u001B[49m\u001B[43m \u001B[49m\u001B[43mbatch_iou_list\u001B[49m\u001B[43m)\u001B[49m\n\u001B[32m      3\u001B[39m plt.title(\u001B[33m\"\u001B[39m\u001B[33mIoU\u001B[39m\u001B[33m\"\u001B[39m)\n\u001B[32m      4\u001B[39m plt.xlabel(\u001B[33m\"\u001B[39m\u001B[33mЭпоха\u001B[39m\u001B[33m\"\u001B[39m)\n",
      "\u001B[36mFile \u001B[39m\u001B[32m~\\repos\\ml-course\\.venv\\Lib\\site-packages\\matplotlib\\pyplot.py:3827\u001B[39m, in \u001B[36mplot\u001B[39m\u001B[34m(scalex, scaley, data, *args, **kwargs)\u001B[39m\n\u001B[32m   3819\u001B[39m \u001B[38;5;129m@_copy_docstring_and_deprecators\u001B[39m(Axes.plot)\n\u001B[32m   3820\u001B[39m \u001B[38;5;28;01mdef\u001B[39;00m\u001B[38;5;250m \u001B[39m\u001B[34mplot\u001B[39m(\n\u001B[32m   3821\u001B[39m     *args: \u001B[38;5;28mfloat\u001B[39m | ArrayLike | \u001B[38;5;28mstr\u001B[39m,\n\u001B[32m   (...)\u001B[39m\u001B[32m   3825\u001B[39m     **kwargs,\n\u001B[32m   3826\u001B[39m ) -> \u001B[38;5;28mlist\u001B[39m[Line2D]:\n\u001B[32m-> \u001B[39m\u001B[32m3827\u001B[39m     \u001B[38;5;28;01mreturn\u001B[39;00m \u001B[43mgca\u001B[49m\u001B[43m(\u001B[49m\u001B[43m)\u001B[49m\u001B[43m.\u001B[49m\u001B[43mplot\u001B[49m\u001B[43m(\u001B[49m\n\u001B[32m   3828\u001B[39m \u001B[43m        \u001B[49m\u001B[43m*\u001B[49m\u001B[43margs\u001B[49m\u001B[43m,\u001B[49m\n\u001B[32m   3829\u001B[39m \u001B[43m        \u001B[49m\u001B[43mscalex\u001B[49m\u001B[43m=\u001B[49m\u001B[43mscalex\u001B[49m\u001B[43m,\u001B[49m\n\u001B[32m   3830\u001B[39m \u001B[43m        \u001B[49m\u001B[43mscaley\u001B[49m\u001B[43m=\u001B[49m\u001B[43mscaley\u001B[49m\u001B[43m,\u001B[49m\n\u001B[32m   3831\u001B[39m \u001B[43m        \u001B[49m\u001B[43m*\u001B[49m\u001B[43m*\u001B[49m\u001B[43m(\u001B[49m\u001B[43m{\u001B[49m\u001B[33;43m\"\u001B[39;49m\u001B[33;43mdata\u001B[39;49m\u001B[33;43m\"\u001B[39;49m\u001B[43m:\u001B[49m\u001B[43m \u001B[49m\u001B[43mdata\u001B[49m\u001B[43m}\u001B[49m\u001B[43m \u001B[49m\u001B[38;5;28;43;01mif\u001B[39;49;00m\u001B[43m \u001B[49m\u001B[43mdata\u001B[49m\u001B[43m \u001B[49m\u001B[38;5;129;43;01mis\u001B[39;49;00m\u001B[43m \u001B[49m\u001B[38;5;129;43;01mnot\u001B[39;49;00m\u001B[43m \u001B[49m\u001B[38;5;28;43;01mNone\u001B[39;49;00m\u001B[43m \u001B[49m\u001B[38;5;28;43;01melse\u001B[39;49;00m\u001B[43m \u001B[49m\u001B[43m{\u001B[49m\u001B[43m}\u001B[49m\u001B[43m)\u001B[49m\u001B[43m,\u001B[49m\n\u001B[32m   3832\u001B[39m \u001B[43m        \u001B[49m\u001B[43m*\u001B[49m\u001B[43m*\u001B[49m\u001B[43mkwargs\u001B[49m\u001B[43m,\u001B[49m\n\u001B[32m   3833\u001B[39m \u001B[43m    \u001B[49m\u001B[43m)\u001B[49m\n",
      "\u001B[36mFile \u001B[39m\u001B[32m~\\repos\\ml-course\\.venv\\Lib\\site-packages\\matplotlib\\axes\\_axes.py:1777\u001B[39m, in \u001B[36mAxes.plot\u001B[39m\u001B[34m(self, scalex, scaley, data, *args, **kwargs)\u001B[39m\n\u001B[32m   1534\u001B[39m \u001B[38;5;250m\u001B[39m\u001B[33;03m\"\"\"\u001B[39;00m\n\u001B[32m   1535\u001B[39m \u001B[33;03mPlot y versus x as lines and/or markers.\u001B[39;00m\n\u001B[32m   1536\u001B[39m \n\u001B[32m   (...)\u001B[39m\u001B[32m   1774\u001B[39m \u001B[33;03m(``'green'``) or hex strings (``'#008000'``).\u001B[39;00m\n\u001B[32m   1775\u001B[39m \u001B[33;03m\"\"\"\u001B[39;00m\n\u001B[32m   1776\u001B[39m kwargs = cbook.normalize_kwargs(kwargs, mlines.Line2D)\n\u001B[32m-> \u001B[39m\u001B[32m1777\u001B[39m lines = [*\u001B[38;5;28mself\u001B[39m._get_lines(\u001B[38;5;28mself\u001B[39m, *args, data=data, **kwargs)]\n\u001B[32m   1778\u001B[39m \u001B[38;5;28;01mfor\u001B[39;00m line \u001B[38;5;129;01min\u001B[39;00m lines:\n\u001B[32m   1779\u001B[39m     \u001B[38;5;28mself\u001B[39m.add_line(line)\n",
      "\u001B[36mFile \u001B[39m\u001B[32m~\\repos\\ml-course\\.venv\\Lib\\site-packages\\matplotlib\\axes\\_base.py:297\u001B[39m, in \u001B[36m_process_plot_var_args.__call__\u001B[39m\u001B[34m(self, axes, data, return_kwargs, *args, **kwargs)\u001B[39m\n\u001B[32m    295\u001B[39m     this += args[\u001B[32m0\u001B[39m],\n\u001B[32m    296\u001B[39m     args = args[\u001B[32m1\u001B[39m:]\n\u001B[32m--> \u001B[39m\u001B[32m297\u001B[39m \u001B[38;5;28;01myield from\u001B[39;00m \u001B[38;5;28;43mself\u001B[39;49m\u001B[43m.\u001B[49m\u001B[43m_plot_args\u001B[49m\u001B[43m(\u001B[49m\n\u001B[32m    298\u001B[39m \u001B[43m    \u001B[49m\u001B[43maxes\u001B[49m\u001B[43m,\u001B[49m\u001B[43m \u001B[49m\u001B[43mthis\u001B[49m\u001B[43m,\u001B[49m\u001B[43m \u001B[49m\u001B[43mkwargs\u001B[49m\u001B[43m,\u001B[49m\u001B[43m \u001B[49m\u001B[43mambiguous_fmt_datakey\u001B[49m\u001B[43m=\u001B[49m\u001B[43mambiguous_fmt_datakey\u001B[49m\u001B[43m,\u001B[49m\n\u001B[32m    299\u001B[39m \u001B[43m    \u001B[49m\u001B[43mreturn_kwargs\u001B[49m\u001B[43m=\u001B[49m\u001B[43mreturn_kwargs\u001B[49m\n\u001B[32m    300\u001B[39m \u001B[43m\u001B[49m\u001B[43m)\u001B[49m\n",
      "\u001B[36mFile \u001B[39m\u001B[32m~\\repos\\ml-course\\.venv\\Lib\\site-packages\\matplotlib\\axes\\_base.py:494\u001B[39m, in \u001B[36m_process_plot_var_args._plot_args\u001B[39m\u001B[34m(self, axes, tup, kwargs, return_kwargs, ambiguous_fmt_datakey)\u001B[39m\n\u001B[32m    491\u001B[39m     axes.yaxis.update_units(y)\n\u001B[32m    493\u001B[39m \u001B[38;5;28;01mif\u001B[39;00m x.shape[\u001B[32m0\u001B[39m] != y.shape[\u001B[32m0\u001B[39m]:\n\u001B[32m--> \u001B[39m\u001B[32m494\u001B[39m     \u001B[38;5;28;01mraise\u001B[39;00m \u001B[38;5;167;01mValueError\u001B[39;00m(\u001B[33mf\u001B[39m\u001B[33m\"\u001B[39m\u001B[33mx and y must have same first dimension, but \u001B[39m\u001B[33m\"\u001B[39m\n\u001B[32m    495\u001B[39m                      \u001B[33mf\u001B[39m\u001B[33m\"\u001B[39m\u001B[33mhave shapes \u001B[39m\u001B[38;5;132;01m{\u001B[39;00mx.shape\u001B[38;5;132;01m}\u001B[39;00m\u001B[33m and \u001B[39m\u001B[38;5;132;01m{\u001B[39;00my.shape\u001B[38;5;132;01m}\u001B[39;00m\u001B[33m\"\u001B[39m)\n\u001B[32m    496\u001B[39m \u001B[38;5;28;01mif\u001B[39;00m x.ndim > \u001B[32m2\u001B[39m \u001B[38;5;129;01mor\u001B[39;00m y.ndim > \u001B[32m2\u001B[39m:\n\u001B[32m    497\u001B[39m     \u001B[38;5;28;01mraise\u001B[39;00m \u001B[38;5;167;01mValueError\u001B[39;00m(\u001B[33mf\u001B[39m\u001B[33m\"\u001B[39m\u001B[33mx and y can be no greater than 2D, but have \u001B[39m\u001B[33m\"\u001B[39m\n\u001B[32m    498\u001B[39m                      \u001B[33mf\u001B[39m\u001B[33m\"\u001B[39m\u001B[33mshapes \u001B[39m\u001B[38;5;132;01m{\u001B[39;00mx.shape\u001B[38;5;132;01m}\u001B[39;00m\u001B[33m and \u001B[39m\u001B[38;5;132;01m{\u001B[39;00my.shape\u001B[38;5;132;01m}\u001B[39;00m\u001B[33m\"\u001B[39m)\n",
      "\u001B[31mValueError\u001B[39m: x and y must have same first dimension, but have shapes (50,) and (25,)"
     ]
    },
    {
     "data": {
      "text/plain": [
       "<Figure size 640x480 with 1 Axes>"
      ],
      "image/png": "[encoded data removed]"
     },
     "metadata": {},
     "output_type": "display_data"
    }
   ],
   "execution_count": 47
  },
  {
   "metadata": {
    "ExecuteTime": {
     "end_time": "2025-04-18T05:40:46.197431300Z",
     "start_time": "2025-04-17T23:03:10.063340Z"
    }
   },
   "cell_type": "code",
   "source": [
    "model.eval()\n",
    "with torch.no_grad():\n",
    "    outputs = model(batch_images)\n",
    "    preds = (torch.sigmoid(outputs) >= 0.5).float()\n",
    "    train_iou = iou_score(preds.cpu(), batch_masks.cpu())\n",
    "    print(f\"IoU на 4 обучающих изображениях: {train_iou:.4f}\")\n",
    "\n",
    "    test_ious = []\n",
    "    for img_t, mask_t in test_dataset:\n",
    "        img_t = img_t.unsqueeze(0).to(device)\n",
    "        mask_t = mask_t.unsqueeze(0).to(device)\n",
    "        out = model(img_t)\n",
    "        pred_mask = (torch.sigmoid(out) >= 0.5).float()\n",
    "        iou_val = iou_score(pred_mask.cpu(), mask_t.cpu())\n",
    "        test_ious.append(iou_val)\n",
    "    mean_test_iou = sum(test_ious) / len(test_ious)\n",
    "    print(f\"Средний IoU на тестовой выборке: {mean_test_iou:.4f}\")"
   ],
   "id": "da603f044496827a",
   "outputs": [
    {
     "name": "stdout",
     "output_type": "stream",
     "text": [
      "IoU на 4 обучающих изображениях: 0.9750\n",
      "Средний IoU на тестовой выборке: 0.4852\n"
     ]
    }
   ],
   "execution_count": 33
  },
  {
   "metadata": {},
   "cell_type": "markdown",
   "source": [
    "### Результаты\n",
    "Видно, что модель обучается и что она даже переобучилась. Но результаты обученной так модели конечно оставляют желать лучшего. IoU и loss перестали улучшаться после 200 итераций."
   ],
   "id": "8ce46e7daa7dd655"
  },
  {
   "metadata": {},
   "cell_type": "markdown",
   "source": [
    "## Полное обучение модели\n",
    "batch size 4 взят так, чтобы все данные влезали в видеопамять (6 GB)"
   ],
   "id": "da21ba43b69ffd3e"
  },
  {
   "metadata": {
    "ExecuteTime": {
     "end_time": "2025-04-18T05:40:46.200432600Z",
     "start_time": "2025-04-18T00:01:24.752814Z"
    }
   },
   "cell_type": "code",
   "source": [
    "import gc\n",
    "\n",
    "# del model, outputs, preds, loss\n",
    "gc.collect()\n",
    "torch.cuda.empty_cache()\n",
    "\n",
    "train_loader = DataLoader(train_dataset, batch_size=4, shuffle=True, drop_last=True, pin_memory=True)\n",
    "val_loader = DataLoader(val_dataset, batch_size=4, shuffle=False,\n",
    "                        pin_memory=True)\n",
    "test_loader = DataLoader(test_dataset, batch_size=1, shuffle=False)"
   ],
   "id": "ee8d8def174df197",
   "outputs": [],
   "execution_count": 34
  },
  {
   "metadata": {
    "ExecuteTime": {
     "end_time": "2025-04-18T05:40:46.211433500Z",
     "start_time": "2025-04-18T00:01:25.629927Z"
    }
   },
   "cell_type": "code",
   "source": [
    "from tqdm import tqdm\n",
    "from torch.amp import autocast, GradScaler\n",
    "\n",
    "model = UNet(in_channels=3, out_channels=1, base_filters=32).to(device)\n",
    "optimizer = optim.Adam(model.parameters(), lr=1e-3)\n",
    "criterion = nn.BCEWithLogitsLoss()\n",
    "\n",
    "num_epochs = 50\n",
    "history = {'train_loss': [], 'val_loss': [], 'train_iou': [], 'val_iou': []}\n",
    "\n",
    "print(\"start\")\n",
    "for epoch in range(1, num_epochs + 1):\n",
    "    model.train()\n",
    "    total_loss = 0.0\n",
    "    total_iou = 0.0\n",
    "    for imgs, masks in tqdm(train_loader, desc='train'):\n",
    "        imgs = imgs.to(device)\n",
    "        masks = masks.to(device)\n",
    "        optimizer.zero_grad()\n",
    "        outputs = model(imgs)\n",
    "        loss = criterion(outputs, masks)\n",
    "        loss.backward()\n",
    "        optimizer.step()\n",
    "        total_loss += loss.item()\n",
    "        preds = (torch.sigmoid(outputs) >= 0.5).float()\n",
    "        batch_iou = iou_score(preds.cpu(), masks.cpu())\n",
    "        total_iou += batch_iou\n",
    "\n",
    "    train_loss = total_loss / len(train_loader)\n",
    "    train_iou = total_iou / len(train_loader)\n",
    "\n",
    "    model.eval()\n",
    "    total_val_loss = 0.0\n",
    "    total_val_iou = 0.0\n",
    "    with torch.no_grad():\n",
    "        for imgs, masks in tqdm(val_loader, desc=\"val\"):\n",
    "            imgs = imgs.to(device, non_blocking=True)\n",
    "            masks = masks.to(device, non_blocking=True)\n",
    "            outputs = model(imgs)\n",
    "            loss = criterion(outputs, masks)\n",
    "            total_val_loss += loss.item()\n",
    "            preds = (torch.sigmoid(outputs) >= 0.5).float()\n",
    "            batch_val_iou = iou_score(preds.cpu(), masks.cpu())\n",
    "            total_val_iou += batch_val_iou\n",
    "    val_loss = total_val_loss / len(val_loader) if len(val_loader) > 0 else 0\n",
    "    val_iou = total_val_iou / len(val_loader) if len(val_loader) > 0 else 0\n",
    "\n",
    "    history['train_loss'].append(train_loss)\n",
    "    history['val_loss'].append(val_loss)\n",
    "    history['train_iou'].append(train_iou)\n",
    "    history['val_iou'].append(val_iou)\n",
    "\n",
    "    print(\n",
    "        f\"Эпоха {epoch}/{num_epochs} - Loss: {train_loss:.4f} (val {val_loss:.4f}), IoU: {train_iou:.4f} (val {val_iou:.4f})\")\n"
   ],
   "id": "fe016f428624fe5",
   "outputs": [
    {
     "name": "stdout",
     "output_type": "stream",
     "text": [
      "start\n"
     ]
    },
    {
     "name": "stderr",
     "output_type": "stream",
     "text": [
      "train:  10%|█         | 35/340 [00:16<02:24,  2.11it/s]\n"
     ]
    },
    {
     "ename": "KeyboardInterrupt",
     "evalue": "",
     "output_type": "error",
     "traceback": [
      "\u001B[31m---------------------------------------------------------------------------\u001B[39m",
      "\u001B[31mKeyboardInterrupt\u001B[39m                         Traceback (most recent call last)",
      "\u001B[36mCell\u001B[39m\u001B[36m \u001B[39m\u001B[32mIn[35]\u001B[39m\u001B[32m, line 24\u001B[39m\n\u001B[32m     22\u001B[39m loss.backward()\n\u001B[32m     23\u001B[39m optimizer.step()\n\u001B[32m---> \u001B[39m\u001B[32m24\u001B[39m total_loss += \u001B[43mloss\u001B[49m\u001B[43m.\u001B[49m\u001B[43mitem\u001B[49m\u001B[43m(\u001B[49m\u001B[43m)\u001B[49m\n\u001B[32m     25\u001B[39m preds = (torch.sigmoid(outputs) >= \u001B[32m0.5\u001B[39m).float()\n\u001B[32m     26\u001B[39m batch_iou = iou_score(preds.cpu(), masks.cpu())\n",
      "\u001B[31mKeyboardInterrupt\u001B[39m: "
     ]
    }
   ],
   "execution_count": 35
  },
  {
   "metadata": {
    "ExecuteTime": {
     "end_time": "2025-04-18T05:40:46.212431500Z",
     "start_time": "2025-04-18T00:04:32.587290Z"
    }
   },
   "cell_type": "code",
   "source": [
    "epochs = range(1, len(history['train_loss']) + 1)\n",
    "\n",
    "plt.figure()\n",
    "plt.plot(epochs, history['train_loss'], label='Train Loss')\n",
    "plt.plot(epochs, history['val_loss'], label='Val Loss')\n",
    "plt.xlabel('Epoch')\n",
    "plt.ylabel('Loss')\n",
    "plt.title('Train vs Val Loss')\n",
    "plt.legend()\n",
    "plt.show()\n",
    "\n",
    "plt.figure()\n",
    "plt.plot(epochs, history['train_iou'], label='Train IoU')\n",
    "plt.plot(epochs, history['val_iou'], label='Val IoU')\n",
    "plt.xlabel('Epoch')\n",
    "plt.ylabel('IoU')\n",
    "plt.title('Train vs Val IoU')\n",
    "plt.legend()\n",
    "plt.show()"
   ],
   "id": "5986db8d183898b6",
   "outputs": [
    {
     "data": {
      "text/plain": [
       "<Figure size 640x480 with 1 Axes>"
      ],
      "image/png": "[encoded data removed]"
     },
     "metadata": {},
     "output_type": "display_data"
    },
    {
     "data": {
      "text/plain": [
       "<Figure size 640x480 with 1 Axes>"
      ],
      "image/png": "[encoded data removed]"
     },
     "metadata": {},
     "output_type": "display_data"
    }
   ],
   "execution_count": 36
  },
  {
   "metadata": {
    "ExecuteTime": {
     "end_time": "2025-04-18T05:40:46.213432Z",
     "start_time": "2025-04-18T00:05:11.024020Z"
    }
   },
   "cell_type": "code",
   "source": [
    "model.eval()\n",
    "with torch.no_grad():\n",
    "    test_ious = []\n",
    "    for img_t, mask_t in test_dataset:\n",
    "        img_t = img_t.unsqueeze(0).to(device)\n",
    "        mask_t = mask_t.unsqueeze(0).to(device)\n",
    "        out = model(img_t)\n",
    "        pred_mask = (torch.sigmoid(out) >= 0.5).float()\n",
    "        iou_val = iou_score(pred_mask.cpu(), mask_t.cpu())\n",
    "        test_ious.append(iou_val)\n",
    "    mean_test_iou = sum(test_ious) / len(test_ious)\n",
    "    print(f\"Средний IoU на тестовой выборке: {mean_test_iou:.4f}\")"
   ],
   "id": "58216b08d68e121f",
   "outputs": [
    {
     "ename": "KeyboardInterrupt",
     "evalue": "",
     "output_type": "error",
     "traceback": [
      "\u001B[31m---------------------------------------------------------------------------\u001B[39m",
      "\u001B[31mKeyboardInterrupt\u001B[39m                         Traceback (most recent call last)",
      "\u001B[36mCell\u001B[39m\u001B[36m \u001B[39m\u001B[32mIn[38]\u001B[39m\u001B[32m, line 9\u001B[39m\n\u001B[32m      7\u001B[39m     out = model(img_t)\n\u001B[32m      8\u001B[39m     pred_mask = (torch.sigmoid(out) >= \u001B[32m0.5\u001B[39m).float()\n\u001B[32m----> \u001B[39m\u001B[32m9\u001B[39m     iou_val = iou_score(\u001B[43mpred_mask\u001B[49m\u001B[43m.\u001B[49m\u001B[43mcpu\u001B[49m\u001B[43m(\u001B[49m\u001B[43m)\u001B[49m, mask_t.cpu())\n\u001B[32m     10\u001B[39m     test_ious.append(iou_val)\n\u001B[32m     11\u001B[39m mean_test_iou = \u001B[38;5;28msum\u001B[39m(test_ious) / \u001B[38;5;28mlen\u001B[39m(test_ious)\n",
      "\u001B[31mKeyboardInterrupt\u001B[39m: "
     ]
    }
   ],
   "execution_count": 38
  }
 ],
 "metadata": {
  "kernelspec": {
   "display_name": "Python 3",
   "language": "python",
   "name": "python3"
  },
  "language_info": {
   "codemirror_mode": {
    "name": "ipython",
    "version": 2
   },
   "file_extension": ".py",
   "mimetype": "text/x-python",
   "name": "python",
   "nbconvert_exporter": "python",
   "pygments_lexer": "ipython2",
   "version": "2.7.6"
  }
 },
 "nbformat": 4,
 "nbformat_minor": 5
}
