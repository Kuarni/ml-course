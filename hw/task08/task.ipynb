{
 "cells": [
  {
   "cell_type": "code",
   "id": "4d81fae1404a6195",
   "metadata": {
    "ExecuteTime": {
     "end_time": "2025-04-17T21:07:07.103468Z",
     "start_time": "2025-04-17T21:07:07.099020Z"
    }
   },
   "source": [
    "import os\n",
    "\n",
    "from matplotlib import pyplot as plt\n",
    "from sklearn.model_selection import train_test_split\n",
    "import random\n",
    "import numpy as np\n",
    "import torch\n",
    "import torch.nn as nn\n",
    "import torch.nn.functional as F\n",
    "from PIL import Image\n",
    "import torch.optim as optim\n",
    "from torch.utils.data import Dataset, DataLoader\n",
    "\n",
    "print(torch.cuda.is_available())"
   ],
   "outputs": [
    {
     "name": "stdout",
     "output_type": "stream",
     "text": [
      "True\n"
     ]
    }
   ],
   "execution_count": 33
  },
  {
   "metadata": {},
   "cell_type": "markdown",
   "source": [
    "## Train, Test set\n",
    "загрузим изображения и поделим на выборки"
   ],
   "id": "4c5587dde8843c1a"
  },
  {
   "metadata": {
    "collapsed": true,
    "ExecuteTime": {
     "end_time": "2025-04-17T20:36:27.349836Z",
     "start_time": "2025-04-17T20:36:27.329660Z"
    }
   },
   "cell_type": "code",
   "source": [
    "data_dir = \"dataset\"\n",
    "images_dir = os.path.join(data_dir, \"images\")\n",
    "masks_dir = os.path.join(data_dir, \"masks\")\n",
    "\n",
    "image_files = sorted([f for f in os.listdir(images_dir) if f.endswith(('.png', '.jpg', '.jpeg'))])\n",
    "mask_files = sorted([f for f in os.listdir(masks_dir) if f.endswith(('.png', '.jpg', '.jpeg'))])\n",
    "\n",
    "print(f\"Всего изображений: {len(image_files)}, Всего масок: {len(mask_files)}\")\n",
    "\n",
    "train_images, test_images, train_masks, test_masks = train_test_split(\n",
    "    image_files, mask_files, test_size=0.2, random_state=52)\n",
    "\n",
    "print(f\"Обучающих изображений: {len(train_images)}, Тестовых изображений: {len(test_images)}\")\n",
    "\n",
    "train_images, val_images, train_masks, val_masks = train_test_split(\n",
    "    train_images, train_masks, test_size=0.15, random_state=52)\n",
    "\n",
    "print(f\"Итогово: Train: {len(train_images)}, Val: {len(val_images)}, Test: {len(test_images)}\")"
   ],
   "id": "initial_id",
   "outputs": [
    {
     "name": "stdout",
     "output_type": "stream",
     "text": [
      "Всего изображений: 2000, Всего масок: 2000\n",
      "Обучающих изображений: 1600, Тестовых изображений: 400\n",
      "Итогово: Train: 1360, Val: 240, Test: 400\n"
     ]
    }
   ],
   "execution_count": 20
  },
  {
   "metadata": {},
   "cell_type": "markdown",
   "source": "## Зафиксируем рандом",
   "id": "3e0351704c8c7198"
  },
  {
   "metadata": {
    "ExecuteTime": {
     "end_time": "2025-04-17T20:36:27.576239Z",
     "start_time": "2025-04-17T20:36:27.569526Z"
    }
   },
   "cell_type": "code",
   "source": [
    "SEED = 52\n",
    "random.seed(SEED)\n",
    "np.random.seed(SEED)\n",
    "torch.manual_seed(SEED)\n",
    "torch.cuda.manual_seed_all(SEED)\n",
    "\n",
    "# фиксируем настройки CUDA для воспроизводимости\n",
    "torch.backends.cudnn.deterministic = True\n",
    "torch.backends.cudnn.benchmark = False"
   ],
   "id": "8e12f7d751874895",
   "outputs": [],
   "execution_count": 21
  },
  {
   "metadata": {},
   "cell_type": "markdown",
   "source": "## Метрика Jaccard (IoU)",
   "id": "f5e366c73c048e93"
  },
  {
   "metadata": {
    "ExecuteTime": {
     "end_time": "2025-04-17T20:36:27.919504Z",
     "start_time": "2025-04-17T20:36:27.912965Z"
    }
   },
   "cell_type": "code",
   "source": [
    "def iou_score(pred_mask: torch.Tensor, true_mask: torch.Tensor) -> float:\n",
    "    pred_mask_bool = pred_mask.bool()\n",
    "    true_mask_bool = true_mask.bool()\n",
    "\n",
    "    intersection = (pred_mask_bool & true_mask_bool).float().sum(dim=(-1, -2))\n",
    "    union = (pred_mask_bool | true_mask_bool).float().sum(dim=(-1, -2))\n",
    "\n",
    "    # Чтобы избежать деления на 0, добавим epsilon к знаменателю\n",
    "    iou = (intersection + 1e-6) / (union + 1e-6)\n",
    "\n",
    "    # Если на входе был батч, вернем среднее по батчу\n",
    "    return iou.mean().item() if iou.ndim > 0 else iou.item()"
   ],
   "id": "5b345ebccd7b1879",
   "outputs": [],
   "execution_count": 22
  },
  {
   "metadata": {},
   "cell_type": "markdown",
   "source": "## Модель U-Net",
   "id": "68385bbcdc017a13"
  },
  {
   "metadata": {
    "ExecuteTime": {
     "end_time": "2025-04-17T20:36:28.195478Z",
     "start_time": "2025-04-17T20:36:28.140679Z"
    }
   },
   "cell_type": "code",
   "source": [
    "class UNet(nn.Module):\n",
    "    def __init__(self, in_channels=3, out_channels=1, base_filters=32):\n",
    "        super(UNet, self).__init__()\n",
    "        self.enc1 = self._conv_block(in_channels, base_filters)\n",
    "        self.enc2 = self._conv_block(base_filters, base_filters * 2)\n",
    "        self.enc3 = self._conv_block(base_filters * 2, base_filters * 4)\n",
    "        self.enc4 = self._conv_block(base_filters * 4, base_filters * 8)\n",
    "        self.bottom = self._conv_block(base_filters * 8, base_filters * 16)\n",
    "\n",
    "        self.up4 = nn.ConvTranspose2d(base_filters * 16, base_filters * 8, kernel_size=2, stride=2)\n",
    "        self.dec4 = self._conv_block(base_filters * 16, base_filters * 8)\n",
    "        self.up3 = nn.ConvTranspose2d(base_filters * 8, base_filters * 4, kernel_size=2, stride=2)\n",
    "        self.dec3 = self._conv_block(base_filters * 8, base_filters * 4)\n",
    "        self.up2 = nn.ConvTranspose2d(base_filters * 4, base_filters * 2, kernel_size=2, stride=2)\n",
    "        self.dec2 = self._conv_block(base_filters * 4, base_filters * 2)\n",
    "        self.up1 = nn.ConvTranspose2d(base_filters * 2, base_filters, kernel_size=2, stride=2)\n",
    "        self.dec1 = self._conv_block(base_filters * 2, base_filters)\n",
    "\n",
    "        self.out_conv = nn.Conv2d(base_filters, out_channels, kernel_size=1)\n",
    "\n",
    "    def _conv_block(self, in_ch, out_ch):\n",
    "        return nn.Sequential(\n",
    "            nn.Conv2d(in_ch, out_ch, kernel_size=3, padding=1),\n",
    "            nn.ReLU(inplace=True),\n",
    "            nn.Conv2d(out_ch, out_ch, kernel_size=3, padding=1),\n",
    "            nn.ReLU(inplace=True),\n",
    "        )\n",
    "\n",
    "    def _pad_to_match(self, x, target):\n",
    "        diff_y = target.size(2) - x.size(2)\n",
    "        diff_x = target.size(3) - x.size(3)\n",
    "        x = F.pad(x, [diff_x // 2, diff_x - diff_x // 2,\n",
    "                      diff_y // 2, diff_y - diff_y // 2])\n",
    "        return x\n",
    "\n",
    "    def forward(self, x):\n",
    "        x1 = self.enc1(x)\n",
    "        x2 = self.enc2(F.max_pool2d(x1, 2))\n",
    "        x3 = self.enc3(F.max_pool2d(x2, 2))\n",
    "        x4 = self.enc4(F.max_pool2d(x3, 2))\n",
    "        x5 = self.bottom(F.max_pool2d(x4, 2))\n",
    "\n",
    "        u4 = self.up4(x5)\n",
    "        u4 = self._pad_to_match(u4, x4)\n",
    "        d4 = self.dec4(torch.cat([u4, x4], dim=1))\n",
    "\n",
    "        u3 = self.up3(d4)\n",
    "        u3 = self._pad_to_match(u3, x3)\n",
    "        d3 = self.dec3(torch.cat([u3, x3], dim=1))\n",
    "\n",
    "        u2 = self.up2(d3)\n",
    "        u2 = self._pad_to_match(u2, x2)\n",
    "        d2 = self.dec2(torch.cat([u2, x2], dim=1))\n",
    "\n",
    "        u1 = self.up1(d2)\n",
    "        u1 = self._pad_to_match(u1, x1)\n",
    "        d1 = self.dec1(torch.cat([u1, x1], dim=1))\n",
    "\n",
    "        return self.out_conv(d1)\n",
    "\n",
    "model = UNet(in_channels=3, out_channels=1, base_filters=32)\n",
    "print(model.out_conv)"
   ],
   "id": "712f9c86314b8715",
   "outputs": [
    {
     "name": "stdout",
     "output_type": "stream",
     "text": [
      "Conv2d(32, 1, kernel_size=(1, 1), stride=(1, 1))\n"
     ]
    }
   ],
   "execution_count": 23
  },
  {
   "metadata": {},
   "cell_type": "markdown",
   "source": "## Проверка модели путем переобучения на маленьком батче\n",
   "id": "ad5923380c1821f8"
  },
  {
   "metadata": {
    "ExecuteTime": {
     "end_time": "2025-04-17T20:36:28.319947Z",
     "start_time": "2025-04-17T20:36:28.200448Z"
    }
   },
   "cell_type": "code",
   "source": [
    "def load_image_mask(image_filename, mask_filename):\n",
    "    img = Image.open(os.path.join(images_dir, image_filename)).convert(\"RGB\")\n",
    "    mask = Image.open(os.path.join(masks_dir, mask_filename)).convert(\"L\")\n",
    "    img_tensor = torch.FloatTensor(np.array(img) / 255.0)  # нормируем к [0,1]\n",
    "    img_tensor = img_tensor.permute(2, 0, 1)  # канал, высота, ширина\n",
    "    mask_tensor = torch.FloatTensor(np.array(mask) / 255.0)  # маска в [0,1]\n",
    "    mask_tensor = mask_tensor.unsqueeze(0)  # добавляем канал\n",
    "    return img_tensor, mask_tensor\n",
    "\n",
    "\n",
    "# Берем первые 4 из train\n",
    "small_train_imgs = train_images[:4]\n",
    "small_train_masks = train_masks[:4]\n",
    "\n",
    "batch_images = []\n",
    "batch_masks = []\n",
    "for img_file, mask_file in zip(small_train_imgs, small_train_masks):\n",
    "    img_t, mask_t = load_image_mask(img_file, mask_file)\n",
    "    batch_images.append(img_t)\n",
    "    batch_masks.append(mask_t)\n",
    "batch_images = torch.stack(batch_images)\n",
    "batch_masks = torch.stack(batch_masks)\n",
    "\n",
    "device = torch.device(\"cuda\")\n",
    "model = model.to(device)\n",
    "batch_images = batch_images.to(device)\n",
    "batch_masks = batch_masks.to(device)\n",
    "\n",
    "criterion = nn.BCEWithLogitsLoss()\n",
    "optimizer = optim.Adam(model.parameters(), lr=1e-3)"
   ],
   "id": "9f07a54c5a3bc608",
   "outputs": [],
   "execution_count": 24
  },
  {
   "metadata": {},
   "cell_type": "markdown",
   "source": "обучим",
   "id": "f56a47b0d73d549c"
  },
  {
   "metadata": {
    "ExecuteTime": {
     "end_time": "2025-04-17T20:49:27.419050Z",
     "start_time": "2025-04-17T20:36:28.469707Z"
    }
   },
   "cell_type": "code",
   "source": [
    "num_epochs = 500\n",
    "batch_iou_list = []\n",
    "batch_loss_list = []\n",
    "for epoch in range(1, num_epochs + 1):\n",
    "    model.train()\n",
    "    optimizer.zero_grad()\n",
    "    outputs = model(batch_images)\n",
    "    loss = criterion(outputs, batch_masks)\n",
    "    loss.backward()\n",
    "    optimizer.step()\n",
    "    batch_loss_list.append(loss.item())\n",
    "\n",
    "    if epoch % 10 == 0:\n",
    "        preds = torch.sigmoid(outputs) >= 0.5\n",
    "        iou_val = iou_score(preds.cpu(), batch_masks.cpu())\n",
    "        print(f\"Эпоха {epoch}: loss = {loss.item():.4f}, IoU = {iou_val:.4f}\")\n",
    "        batch_iou_list.append(iou_val)\n",
    "        if iou_val > 0.98:\n",
    "            print(\"Достигнуто IoU > 0.98 на обучающем батче, останавливаем обучение.\")\n",
    "            break"
   ],
   "id": "5529d23b10a64c02",
   "outputs": [
    {
     "name": "stdout",
     "output_type": "stream",
     "text": [
      "Эпоха 10: loss = 0.6822, IoU = 0.4089\n",
      "Эпоха 20: loss = 0.6485, IoU = 0.3999\n",
      "Эпоха 30: loss = 0.6024, IoU = 0.4350\n",
      "Эпоха 40: loss = 0.6674, IoU = 0.4546\n",
      "Эпоха 50: loss = 0.5490, IoU = 0.4608\n",
      "Эпоха 60: loss = 0.5135, IoU = 0.3923\n",
      "Эпоха 70: loss = 0.5307, IoU = 0.6992\n",
      "Эпоха 80: loss = 0.3801, IoU = 0.7496\n",
      "Эпоха 90: loss = 0.5218, IoU = 0.5843\n",
      "Эпоха 100: loss = 0.4514, IoU = 0.7384\n",
      "Эпоха 110: loss = 0.3562, IoU = 0.7872\n",
      "Эпоха 120: loss = 0.2983, IoU = 0.7852\n",
      "Эпоха 130: loss = 0.9089, IoU = 0.7233\n",
      "Эпоха 140: loss = 0.4991, IoU = 0.7069\n",
      "Эпоха 150: loss = 0.3372, IoU = 0.7688\n",
      "Эпоха 160: loss = 0.4749, IoU = 0.7310\n",
      "Эпоха 170: loss = 0.3628, IoU = 0.6653\n",
      "Эпоха 180: loss = 0.3130, IoU = 0.7833\n",
      "Эпоха 190: loss = 0.1870, IoU = 0.8688\n",
      "Эпоха 200: loss = 0.1619, IoU = 0.8970\n",
      "Эпоха 210: loss = 0.1311, IoU = 0.9201\n",
      "Эпоха 220: loss = 0.0923, IoU = 0.9345\n",
      "Эпоха 230: loss = 0.0588, IoU = 0.9522\n",
      "Эпоха 240: loss = 0.0616, IoU = 0.9373\n",
      "Эпоха 250: loss = 0.1062, IoU = 0.9225\n",
      "Эпоха 260: loss = 0.0651, IoU = 0.9513\n",
      "Эпоха 270: loss = 0.0440, IoU = 0.9570\n",
      "Эпоха 280: loss = 0.0297, IoU = 0.9746\n",
      "Эпоха 290: loss = 0.0238, IoU = 0.9742\n",
      "Эпоха 300: loss = 0.0190, IoU = 0.9702\n",
      "Эпоха 310: loss = 0.0171, IoU = 0.9717\n",
      "Эпоха 320: loss = 0.0159, IoU = 0.9755\n",
      "Эпоха 330: loss = 0.0157, IoU = 0.9702\n",
      "Эпоха 340: loss = 0.0149, IoU = 0.9717\n",
      "Эпоха 350: loss = 0.0146, IoU = 0.9712\n",
      "Эпоха 360: loss = 0.0142, IoU = 0.9716\n",
      "Эпоха 370: loss = 0.0139, IoU = 0.9723\n",
      "Эпоха 380: loss = 0.0137, IoU = 0.9767\n",
      "Эпоха 390: loss = 0.0135, IoU = 0.9762\n",
      "Эпоха 400: loss = 0.0133, IoU = 0.9730\n",
      "Эпоха 410: loss = 0.0133, IoU = 0.9765\n",
      "Эпоха 420: loss = 0.0130, IoU = 0.9744\n",
      "Эпоха 430: loss = 0.0130, IoU = 0.9745\n",
      "Эпоха 440: loss = 0.0129, IoU = 0.9752\n",
      "Эпоха 450: loss = 0.0128, IoU = 0.9750\n",
      "Эпоха 460: loss = 0.0127, IoU = 0.9754\n",
      "Эпоха 470: loss = 0.0132, IoU = 0.9715\n",
      "Эпоха 480: loss = 0.0128, IoU = 0.9731\n",
      "Эпоха 490: loss = 0.0126, IoU = 0.9738\n",
      "Эпоха 500: loss = 0.0125, IoU = 0.9751\n"
     ]
    }
   ],
   "execution_count": 25
  },
  {
   "metadata": {},
   "cell_type": "markdown",
   "source": "Проверка результатов",
   "id": "4599fa3c6b2cfcbd"
  },
  {
   "metadata": {
    "ExecuteTime": {
     "end_time": "2025-04-17T21:05:31.506860Z",
     "start_time": "2025-04-17T21:05:31.284951Z"
    }
   },
   "cell_type": "code",
   "source": [
    "plt.figure()\n",
    "plt.plot(range(0, 500, 10), batch_iou_list)\n",
    "plt.title(\"IoU\")\n",
    "plt.xlabel(\"Эпоха\")\n",
    "plt.ylabel(\"IoU\")\n",
    "plt.show()\n",
    "\n",
    "plt.figure()\n",
    "plt.plot(batch_loss_list)\n",
    "plt.title(\"loss\")\n",
    "plt.xlabel(\"Эпоха\")\n",
    "plt.ylabel(\"loss\")\n",
    "plt.show()"
   ],
   "id": "da731e28f729363e",
   "outputs": [
    {
     "data": {
      "text/plain": [
       "<Figure size 640x480 with 1 Axes>"
      ],
      "image/png": "[encoded data removed]"
     },
     "metadata": {},
     "output_type": "display_data"
    },
    {
     "data": {
      "text/plain": [
       "<Figure size 640x480 with 1 Axes>"
      ],
      "image/png": "[encoded data removed]"
     },
     "metadata": {},
     "output_type": "display_data"
    }
   ],
   "execution_count": 31
  },
  {
   "metadata": {
    "ExecuteTime": {
     "end_time": "2025-04-17T20:51:31.665728Z",
     "start_time": "2025-04-17T20:49:27.798338Z"
    }
   },
   "cell_type": "code",
   "source": [
    "model.eval()\n",
    "with torch.no_grad():\n",
    "    outputs = model(batch_images)\n",
    "    preds = (torch.sigmoid(outputs) >= 0.5).float()\n",
    "    train_iou = iou_score(preds.cpu(), batch_masks.cpu())\n",
    "    print(f\"IoU на 4 обучающих изображениях: {train_iou:.4f}\")\n",
    "\n",
    "    test_ious = []\n",
    "    for img_file, mask_file in zip(test_images, test_masks):\n",
    "        img_t, mask_t = load_image_mask(img_file, mask_file)\n",
    "        img_t = img_t.unsqueeze(0).to(device)\n",
    "        mask_t = mask_t.unsqueeze(0).to(device)\n",
    "        out = model(img_t)\n",
    "        pred_mask = (torch.sigmoid(out) >= 0.5).float()\n",
    "        iou_val = iou_score(pred_mask.cpu(), mask_t.cpu())\n",
    "        test_ious.append(iou_val)\n",
    "    mean_test_iou = sum(test_ious) / len(test_ious)\n",
    "    print(f\"Средний IoU на тестовой выборке: {mean_test_iou:.4f}\")"
   ],
   "id": "da603f044496827a",
   "outputs": [
    {
     "name": "stdout",
     "output_type": "stream",
     "text": [
      "IoU на 4 обучающих изображениях: 0.9736\n",
      "Средний IoU на тестовой выборке: 0.4789\n"
     ]
    }
   ],
   "execution_count": 27
  },
  {
   "metadata": {},
   "cell_type": "markdown",
   "source": [
    "### Результаты\n",
    "Хоть на небольшой выборке и не были достигнуты прям идеальные результаты, но они все равно весьма неплохие и модель работает. Но результаты обученной так модели конечно оставляют желать лучшего. IoU и loss перестали улучшаться после 300 итераций."
   ],
   "id": "8ce46e7daa7dd655"
  },
  {
   "metadata": {},
   "cell_type": "markdown",
   "source": "## Полное обучение модели",
   "id": "da21ba43b69ffd3e"
  },
  {
   "metadata": {
    "ExecuteTime": {
     "end_time": "2025-04-17T21:38:09.103378Z",
     "start_time": "2025-04-17T21:38:09.090931Z"
    }
   },
   "cell_type": "code",
   "source": [
    "class SegmentationDataset(Dataset):\n",
    "    def __init__(self, image_files, mask_files, images_dir, masks_dir, transform=None):\n",
    "        self.image_files = image_files\n",
    "        self.mask_files = mask_files\n",
    "        self.images_dir = images_dir\n",
    "        self.masks_dir = masks_dir\n",
    "        self.transform = transform\n",
    "    def __len__(self):\n",
    "        return len(self.image_files)\n",
    "    def __getitem__(self, idx):\n",
    "        img_name = self.image_files[idx]\n",
    "        mask_name = self.mask_files[idx]\n",
    "\n",
    "        img = Image.open(os.path.join(self.images_dir, img_name)).convert(\"RGB\")\n",
    "        mask = Image.open(os.path.join(self.masks_dir, mask_name)).convert(\"L\")\n",
    "\n",
    "        img = np.array(img)\n",
    "        mask = np.array(mask)\n",
    "\n",
    "        if self.transform:\n",
    "            augmented = self.transform(image=img, mask=mask)\n",
    "            img = augmented['image']\n",
    "            mask = augmented['mask']\n",
    "\n",
    "        img = torch.FloatTensor(img / 255.0).permute(2, 0, 1)  # [C,H,W]\n",
    "        mask = torch.FloatTensor(mask / 255.0).unsqueeze(0)    # [1,H,W]\n",
    "        return img, mask\n",
    "\n",
    "\n",
    "train_dataset = SegmentationDataset(train_images, train_masks, images_dir, masks_dir, transform=None)\n",
    "val_dataset   = SegmentationDataset(val_images, val_masks, images_dir, masks_dir, transform=None)\n",
    "test_dataset  = SegmentationDataset(test_images, test_masks, images_dir, masks_dir, transform=None)\n",
    "\n",
    "train_loader = DataLoader(train_dataset, batch_size=80, shuffle=True, drop_last=True)\n",
    "val_loader   = DataLoader(val_dataset, batch_size=80, shuffle=False)\n",
    "test_loader  = DataLoader(test_dataset, batch_size=1, shuffle=False)"
   ],
   "id": "ee8d8def174df197",
   "outputs": [],
   "execution_count": 58
  },
  {
   "metadata": {
    "jupyter": {
     "is_executing": true
    },
    "ExecuteTime": {
     "start_time": "2025-04-17T21:39:10.604060Z"
    }
   },
   "cell_type": "code",
   "source": [
    "import gc\n",
    "del model, outputs, preds, loss\n",
    "gc.collect()\n",
    "torch.cuda.empty_cache()\n",
    "\n",
    "model = UNet(in_channels=3, out_channels=1, base_filters=32).to(device)\n",
    "optimizer = optim.Adam(model.parameters(), lr=1e-3)\n",
    "criterion = nn.BCEWithLogitsLoss()\n",
    "\n",
    "num_epochs = 100\n",
    "history = {'train_loss': [], 'val_loss': [], 'train_iou': [], 'val_iou': []}\n",
    "\n",
    "print(\"start\")\n",
    "for epoch in range(1, num_epochs+1):\n",
    "    model.train()\n",
    "    total_loss = 0.0\n",
    "    total_iou = 0.0\n",
    "    for imgs, masks in train_loader:\n",
    "        imgs = imgs.to(device)\n",
    "        masks = masks.to(device)\n",
    "        optimizer.zero_grad()\n",
    "        outputs = model(imgs)\n",
    "        loss = criterion(outputs, masks)\n",
    "        loss.backward()\n",
    "        optimizer.step()\n",
    "        total_loss += loss.item()\n",
    "        preds = (torch.sigmoid(outputs) >= 0.5).float()\n",
    "        batch_iou = iou_score(preds.cpu(), masks.cpu())\n",
    "        total_iou += batch_iou\n",
    "\n",
    "    train_loss = total_loss / len(train_loader)\n",
    "    train_iou = total_iou / len(train_loader)\n",
    "\n",
    "    model.eval()\n",
    "    total_val_loss = 0.0\n",
    "    total_val_iou = 0.0\n",
    "    with torch.no_grad():\n",
    "        for imgs, masks in val_loader:\n",
    "            imgs = imgs.to(device)\n",
    "            masks = masks.to(device)\n",
    "            outputs = model(imgs)\n",
    "            loss = criterion(outputs, masks)\n",
    "            total_val_loss += loss.item()\n",
    "            preds = (torch.sigmoid(outputs) >= 0.5).float()\n",
    "            batch_val_iou = iou_score(preds.cpu(), masks.cpu())\n",
    "            total_val_iou += batch_val_iou\n",
    "    val_loss = total_val_loss / len(val_loader) if len(val_loader) > 0 else 0\n",
    "    val_iou = total_val_iou / len(val_loader) if len(val_loader) > 0 else 0\n",
    "\n",
    "\n",
    "    history['train_loss'].append(train_loss)\n",
    "    history['val_loss'].append(val_loss)\n",
    "    history['train_iou'].append(train_iou)\n",
    "    history['val_iou'].append(val_iou)\n",
    "\n",
    "    print(f\"Эпоха {epoch}/{num_epochs} - Loss: {train_loss:.4f} (val {val_loss:.4f}), IoU: {train_iou:.4f} (val {val_iou:.4f})\")\n"
   ],
   "id": "fe016f428624fe5",
   "outputs": [
    {
     "name": "stdout",
     "output_type": "stream",
     "text": [
      "start\n"
     ]
    }
   ],
   "execution_count": null
  },
  {
   "metadata": {},
   "cell_type": "code",
   "outputs": [],
   "execution_count": null,
   "source": "",
   "id": "157297f89fa15cf9"
  }
 ],
 "metadata": {
  "kernelspec": {
   "display_name": "Python 3",
   "language": "python",
   "name": "python3"
  },
  "language_info": {
   "codemirror_mode": {
    "name": "ipython",
    "version": 2
   },
   "file_extension": ".py",
   "mimetype": "text/x-python",
   "name": "python",
   "nbconvert_exporter": "python",
   "pygments_lexer": "ipython2",
   "version": "2.7.6"
  }
 },
 "nbformat": 4,
 "nbformat_minor": 5
}
